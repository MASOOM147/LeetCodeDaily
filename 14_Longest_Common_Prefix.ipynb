{
  "nbformat": 4,
  "nbformat_minor": 0,
  "metadata": {
    "colab": {
      "provenance": []
    },
    "kernelspec": {
      "name": "python3",
      "display_name": "Python 3"
    },
    "language_info": {
      "name": "python"
    }
  },
  "cells": [
    {
      "cell_type": "markdown",
      "source": [
        "# Write a function to find the longest common prefix string amongst an array of strings.\n",
        "\n",
        "## If there is no common prefix, return an empty string \" \".\n",
        "\n",
        "\n",
        "\n",
        "### Example 1:\n",
        "\n",
        "Input: strs = [\"flower\",\"flow\",\"flight\"]\n",
        "\n",
        "Output: \"fl\"\n",
        "\n",
        "\n",
        "### Example 2:\n",
        "Input: strs = [\"dog\",\"racecar\",\"car\"]\n",
        "\n",
        "Output: \"\"\n",
        "\n",
        "Explanation: There is no common prefix among the input strings.\n",
        "\n",
        "\n",
        "### Constraints:\n",
        "\n",
        "1 <= strs.length <= 200\n",
        "0 <= strs[i].length <= 200\n",
        "strs[i] consists of only lowercase English letters."
      ],
      "metadata": {
        "id": "6nULh7f29Mmq"
      }
    },
    {
      "cell_type": "code",
      "execution_count": null,
      "metadata": {
        "id": "VBKJJdmI9BZA"
      },
      "outputs": [],
      "source": [
        "class Solution(object):\n",
        "    def longestCommonPrefix(self, strs):\n",
        "        if not strs:\n",
        "            return \"\"\n",
        "\n",
        "        # Sort the input strings to ensure that the shortest string is first.\n",
        "        strs.sort()\n",
        "\n",
        "        # Take the first and last strings (after sorting).\n",
        "        first = strs[0]\n",
        "        last = strs[-1]\n",
        "\n",
        "        common_prefix = []\n",
        "\n",
        "        # Compare characters of the first and last strings.\n",
        "        for i in range(len(first)):\n",
        "            if i < len(last) and first[i] == last[i]:\n",
        "                common_prefix.append(first[i])\n",
        "            else:\n",
        "                break\n",
        "\n",
        "        return \"\".join(common_prefix)\n"
      ]
    },
    {
      "cell_type": "markdown",
      "source": [
        "# Test Cases for `longestCommonPrefix` Function\n",
        "\n",
        "## Test Case 1: Empty Input\n",
        "- **Input**: `[]`\n",
        "- **Expected Output**: `\"\"`\n",
        "- **Explanation**: When the input list is empty, the function should return an empty string as there are no strings to find a common prefix from.\n",
        "\n",
        "## Test Case 2: No Common Prefix\n",
        "- **Input**: `[\"dog\", \"cat\", \"fish\"]`\n",
        "- **Expected Output**: `\"\"`\n",
        "- **Explanation**: In this case, there is no common prefix among the input strings, so the function should return an empty string.\n",
        "\n",
        "## Test Case 3: Common Prefix at the Beginning\n",
        "- **Input**: `[\"apple\", \"apricot\", \"ape\"]`\n",
        "- **Expected Output**: `\"ap\"`\n",
        "- **Explanation**: The common prefix among these strings is \"ap\" which is found at the beginning.\n",
        "\n",
        "## Test Case 4: Common Prefix at the End\n",
        "- **Input**: `[\"car\", \"scar\", \"tsar\"]`\n",
        "- **Expected Output**: `\"ar\"`\n",
        "- **Explanation**: The common prefix among these strings is \"ar\" which is found at the end.\n",
        "\n",
        "## Test Case 5: Mixed Prefix and No Common Suffix\n",
        "- **Input**: `[\"blueberry\", \"blue\", \"bluetooth\"]`\n",
        "- **Expected Output**: `\"bl\"`\n",
        "- **Explanation**: The common prefix among these strings is \"bl\" which is present in the first two strings.\n",
        "\n",
        "You can use these test cases to verify the correctness of the `longestCommonPrefix` function.\n"
      ],
      "metadata": {
        "id": "0VhCIK4r-Tpt"
      }
    },
    {
      "cell_type": "code",
      "source": [],
      "metadata": {
        "id": "kr-6BpbF9mt3"
      },
      "execution_count": null,
      "outputs": []
    }
  ]
}