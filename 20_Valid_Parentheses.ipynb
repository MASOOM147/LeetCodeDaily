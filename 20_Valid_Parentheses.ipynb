{
  "nbformat": 4,
  "nbformat_minor": 0,
  "metadata": {
    "colab": {
      "provenance": []
    },
    "kernelspec": {
      "name": "python3",
      "display_name": "Python 3"
    },
    "language_info": {
      "name": "python"
    }
  },
  "cells": [
    {
      "cell_type": "markdown",
      "source": [
        "# Given a string s containing just the characters '(', ')', '{', '}', '[' and ']', determine if the input string is valid.\n",
        "\n",
        "### An input string is valid if:\n",
        "\n",
        "Open brackets must be closed by the same type of brackets.\n",
        "\n",
        "Open brackets must be closed in the correct order.\n",
        "\n",
        "Every close bracket has a corresponding open bracket of the same type.\n",
        "\n",
        "\n",
        "### Example 1:\n",
        "\n",
        "Input: s = \"()\"\n",
        "\n",
        "Output: true\n",
        "\n",
        "### Example 2:\n",
        "\n",
        "Input: s = \"()[]{}\"\n",
        "\n",
        "Output: true\n",
        "\n",
        "###Example 3:\n",
        "\n",
        "Input: s = \"(]\"\n",
        "\n",
        "Output: false"
      ],
      "metadata": {
        "id": "Ax4_K8H7Xmft"
      }
    },
    {
      "cell_type": "code",
      "execution_count": 2,
      "metadata": {
        "id": "7DJghntwWTGj"
      },
      "outputs": [],
      "source": [
        "class Solution(object):\n",
        "    def isValid(self, s):\n",
        "        stack = []\n",
        "        mapping = {')': '(', '}': '{', ']': '['}\n",
        "\n",
        "        for char in s:\n",
        "            if char in mapping:\n",
        "                top_element = stack.pop() if stack else '#'\n",
        "                if top_element != mapping[char]:\n",
        "                    return False\n",
        "            else:\n",
        "                stack.append(char)\n",
        "\n",
        "        return not stack"
      ]
    },
    {
      "cell_type": "code",
      "source": [
        "# Test cases\n",
        "S = Solution()\n",
        "print(S.isValid(\"()\"))         # Output: True\n",
        "print(S.isValid(\"()[]{}\"))     # Output: True\n",
        "print(S.isValid(\"(]\"))         # Output: False"
      ],
      "metadata": {
        "colab": {
          "base_uri": "https://localhost:8080/"
        },
        "id": "bzsYFtaNXNgB",
        "outputId": "4bcd24af-5bf1-4091-9869-dc4a6bd51b6b"
      },
      "execution_count": 3,
      "outputs": [
        {
          "output_type": "stream",
          "name": "stdout",
          "text": [
            "True\n",
            "True\n",
            "False\n"
          ]
        }
      ]
    },
    {
      "cell_type": "markdown",
      "source": [
        "Let's do a dry run of the code with a sample input string, `s = \"({[()]})\"`:\n",
        "\n",
        "1. Initialize the stack as an empty list: `stack = []`.\n",
        "\n",
        "2. Start iterating through the characters in the input string:\n",
        "\n",
        "   - Character '(': Since it's an opening bracket, we push it onto the stack.\n",
        "     - Stack: `['(']`\n",
        "\n",
        "   - Character '{': Opening bracket, push it onto the stack.\n",
        "     - Stack: `['(', '{']`\n",
        "\n",
        "   - Character '[': Opening bracket, push it onto the stack.\n",
        "     - Stack: `['(', '{', '[']`\n",
        "\n",
        "   - Character ')': This is a closing bracket, and we check if the stack is empty or if the top element of the stack matches the corresponding opening bracket for ')', which is '(' in this case. The top element of the stack is '(', and it matches the expected opening bracket. So, we pop it from the stack.\n",
        "     - Stack: `['(', '{']`\n",
        "\n",
        "   - Character ']': This is a closing bracket. Again, we check if it matches the corresponding opening bracket, which is '['. The top element of the stack is '{', which doesn't match. Therefore, the input is not valid, and we return `False`.\n"
      ],
      "metadata": {
        "id": "_l14FwCPYiNK"
      }
    },
    {
      "cell_type": "markdown",
      "source": [
        "## The function returns `False` because it detected a mismatch in the brackets. If the input string had been valid, the stack would have been empty at the end of the iteration, and the function would return `True`.\n"
      ],
      "metadata": {
        "id": "UMLsXkzVYzzS"
      }
    },
    {
      "cell_type": "code",
      "source": [],
      "metadata": {
        "id": "6wFxlmRiYjcC"
      },
      "execution_count": null,
      "outputs": []
    }
  ]
}