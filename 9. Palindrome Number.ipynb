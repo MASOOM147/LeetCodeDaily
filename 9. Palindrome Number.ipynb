{
  "nbformat": 4,
  "nbformat_minor": 0,
  "metadata": {
    "colab": {
      "provenance": []
    },
    "kernelspec": {
      "name": "python3",
      "display_name": "Python 3"
    },
    "language_info": {
      "name": "python"
    }
  },
  "cells": [
    {
      "cell_type": "markdown",
      "source": [
        "# Given an integer x, return true if x is a palindrome and false otherwise.\n",
        "\n",
        "## Example 1:\n",
        "\n",
        "Input: x = 121\n",
        "Output: true\n",
        "Explanation: 121 reads as 121 from left to right and from right to left.\n",
        "## Example 2:\n",
        "\n",
        "Input: x = -121\n",
        "Output: false\n",
        "Explanation: From left to right, it reads -121. From right to left, it becomes 121-. Therefore it is not a palindrome.\n",
        "## Example 3:\n",
        "\n",
        "Input: x = 10\n",
        "Output: false\n",
        "Explanation: Reads 01 from right to left. Therefore it is not a palindrome."
      ],
      "metadata": {
        "id": "FNeB4xFEawMP"
      }
    },
    {
      "cell_type": "markdown",
      "source": [
        "# By other Method"
      ],
      "metadata": {
        "id": "iHsjqaanbjsT"
      }
    },
    {
      "cell_type": "code",
      "source": [
        "class Solution(object):\n",
        "    def isPalindrome(self, x):\n",
        "        if x < 0 or (x % 10 == 0 and x != 0):\n",
        "            return False\n",
        "        reversed_x = 0  # To store the reversed integer\n",
        "        while x > reversed_x:\n",
        "        # Pop the last digit from x and add it to reversed_x\n",
        "            last_digit = x % 10\n",
        "            reversed_x = reversed_x * 10 + last_digit\n",
        "        # Remove the last digit from x\n",
        "            x //= 10\n",
        "    # For odd-length palindromes, we may have one digit left in x,\n",
        "    # so we can ignore that digit when comparing\n",
        "        return x == reversed_x or x == reversed_x // 10\n"
      ],
      "metadata": {
        "id": "0jaUBEIKfz_r"
      },
      "execution_count": null,
      "outputs": []
    },
    {
      "cell_type": "code",
      "source": [
        "S=Solution()"
      ],
      "metadata": {
        "id": "8YiE0cbvlAm7"
      },
      "execution_count": null,
      "outputs": []
    },
    {
      "cell_type": "code",
      "source": [
        "S.isPalindrome(121)"
      ],
      "metadata": {
        "id": "CGqzyGk1lCmd",
        "outputId": "fcffbbd5-bd55-490f-d9e9-ecf1c7b920f7",
        "colab": {
          "base_uri": "https://localhost:8080/"
        }
      },
      "execution_count": null,
      "outputs": [
        {
          "output_type": "execute_result",
          "data": {
            "text/plain": [
              "True"
            ]
          },
          "metadata": {},
          "execution_count": 11
        }
      ]
    },
    {
      "cell_type": "markdown",
      "source": [
        "# By conv  int to String"
      ],
      "metadata": {
        "id": "P2fRxMbja9iK"
      }
    },
    {
      "cell_type": "markdown",
      "source": [],
      "metadata": {
        "id": "5ipOT-DUbZuN"
      }
    },
    {
      "cell_type": "code",
      "source": [
        "class Solution(object):\n",
        "    def isPalindrome(self, x):\n",
        "      self.x=x\n",
        "      y=str(x)\n",
        "      z=y[::-1]\n",
        "      return y==z\n"
      ],
      "metadata": {
        "id": "zvtwTEurAsbS"
      },
      "execution_count": 2,
      "outputs": []
    },
    {
      "cell_type": "code",
      "source": [
        "S=Solution()"
      ],
      "metadata": {
        "id": "Bma7D7ybYs1c"
      },
      "execution_count": 3,
      "outputs": []
    },
    {
      "cell_type": "code",
      "source": [
        "S.isPalindrome(121)"
      ],
      "metadata": {
        "colab": {
          "base_uri": "https://localhost:8080/"
        },
        "id": "ZQhSZhoSY0sx",
        "outputId": "35b59f2c-b30f-4423-c4ad-57c0f66a77cd"
      },
      "execution_count": 6,
      "outputs": [
        {
          "output_type": "execute_result",
          "data": {
            "text/plain": [
              "True"
            ]
          },
          "metadata": {},
          "execution_count": 6
        }
      ]
    },
    {
      "cell_type": "code",
      "execution_count": null,
      "metadata": {
        "id": "EEyMTPJsaPVx"
      },
      "outputs": [],
      "source": [
        "# Define a Python class named Solution\n",
        "class Solution(object):\n",
        "\n",
        "    # Define a method named isPalindrome within the Solution class\n",
        "    def isPalindrome(self, x):\n",
        "        # Store the input integer 'x' as an instance variable of the class\n",
        "        self.x = x\n",
        "\n",
        "        # Convert the integer 'x' to a string representation\n",
        "        y = str(x)\n",
        "\n",
        "        # Reverse the string 'y' using slicing ([::-1]) and store it in 'z'\n",
        "        z = y[::-1]\n",
        "\n",
        "        # Check if the original string 'y' is equal to its reverse 'z'\n",
        "        return y == z\n",
        "\n",
        "# Create an instance of the Solution class named 'S'\n",
        "S = Solution()\n",
        "\n",
        "# Call the isPalindrome method of the 'S' instance with input -12-1\n",
        "# The method will check if -12-1 is a palindrome and return the result\n",
        "# It will print True if it's a palindrome, and False if it's not\n",
        "result = S.isPalindrome(-12-1)\n",
        "\n",
        "# Print the result\n",
        "print(result)\n"
      ]
    }
  ]
}